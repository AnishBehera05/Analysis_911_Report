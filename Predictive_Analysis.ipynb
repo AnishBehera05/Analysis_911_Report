{
  "nbformat": 4,
  "nbformat_minor": 0,
  "metadata": {
    "colab": {
      "private_outputs": true,
      "provenance": [],
      "mount_file_id": "1_CZyJVpnd0T-zy7qYTEysZa0SRtoYZCX",
      "authorship_tag": "ABX9TyMLQcAFj/OV1aBXgfZ9sUAf",
      "include_colab_link": true
    },
    "kernelspec": {
      "name": "python3",
      "display_name": "Python 3"
    },
    "language_info": {
      "name": "python"
    }
  },
  "cells": [
    {
      "cell_type": "markdown",
      "metadata": {
        "id": "view-in-github",
        "colab_type": "text"
      },
      "source": [
        "<a href=\"https://colab.research.google.com/github/AnishBehera05/Data_Analysis_911_call_data_Report/blob/main/Predictive_Analysis.ipynb\" target=\"_parent\"><img src=\"https://colab.research.google.com/assets/colab-badge.svg\" alt=\"Open In Colab\"/></a>"
      ]
    },
    {
      "cell_type": "code",
      "source": [
        "from sklearn.model_selection import train_test_split\n",
        "from sklearn.preprocessing import LabelEncoder\n",
        "from sklearn.ensemble import RandomForestClassifier\n",
        "from sklearn.metrics import classification_report, confusion_matrix\n",
        "import seaborn as sns\n",
        "import matplotlib.pyplot as plt\n",
        "import numpy as np\n",
        "import pandas as pd"
      ],
      "metadata": {
        "id": "HbymgzIY3KnM"
      },
      "execution_count": null,
      "outputs": []
    },
    {
      "cell_type": "code",
      "source": [
        "# Reading the CSV file into a DataFrame\n",
        "df = pd.read_csv('/content/drive/MyDrive/911.csv')"
      ],
      "metadata": {
        "id": "HE7C4nIf3OQy"
      },
      "execution_count": null,
      "outputs": []
    },
    {
      "cell_type": "code",
      "source": [
        "# Creating a new column 'Reason' based on the 'title' column\n",
        "def extract_reason(title):\n",
        "    if isinstance(title, str):  # Check if title is a string\n",
        "        return title.split(':')[0]\n",
        "    else:\n",
        "        return 'Unknown'\n",
        "\n",
        "df['Reason'] = df['title'].apply(extract_reason)"
      ],
      "metadata": {
        "id": "wF8KK3x_O3fH"
      },
      "execution_count": null,
      "outputs": []
    },
    {
      "cell_type": "code",
      "source": [
        "# Encoding categorical variables\n",
        "le = LabelEncoder()\n",
        "df['ReasonEncoded'] = le.fit_transform(df['Reason'])"
      ],
      "metadata": {
        "id": "LtT9FGy-3QZJ"
      },
      "execution_count": null,
      "outputs": []
    },
    {
      "cell_type": "code",
      "source": [
        "# Converting the 'timeStamp' column to DateTime objects\n",
        "df['timeStamp'] = pd.to_datetime(df['timeStamp'])"
      ],
      "metadata": {
        "id": "R07D8l-yPvym"
      },
      "execution_count": null,
      "outputs": []
    },
    {
      "cell_type": "code",
      "source": [
        "# Extracting Hour, Month, and Day of Week from the 'timeStamp' column\n",
        "df['Hour'] = df['timeStamp'].apply(lambda time: time.hour)\n",
        "df['Month'] = df['timeStamp'].apply(lambda time: time.month)\n",
        "df['Day of Week'] = df['timeStamp'].apply(lambda time: time.dayofweek)"
      ],
      "metadata": {
        "id": "T1GkDyd7PzON"
      },
      "execution_count": null,
      "outputs": []
    },
    {
      "cell_type": "code",
      "source": [
        "# Defining features and target variable\n",
        "X = df[['lat', 'lng', 'Hour', 'Month']]\n",
        "y = df['ReasonEncoded']"
      ],
      "metadata": {
        "id": "HMAM44fI3Rhc"
      },
      "execution_count": null,
      "outputs": []
    },
    {
      "cell_type": "code",
      "source": [
        "# Splitting the data into training and testing sets\n",
        "X_train, X_test, y_train, y_test = train_test_split(X, y, test_size=0.2, random_state=42)"
      ],
      "metadata": {
        "id": "-Zp-hPzj3Ua_"
      },
      "execution_count": null,
      "outputs": []
    },
    {
      "cell_type": "code",
      "source": [
        "# Handling NaN values in the testing set\n",
        "X_test.dropna(inplace=True)\n",
        "y_test = y_test[X_test.index]  # Adjusting y_test accordingly"
      ],
      "metadata": {
        "id": "RDQPkNyO3V0j"
      },
      "execution_count": null,
      "outputs": []
    },
    {
      "cell_type": "code",
      "source": [
        "# Initializing and training the Random Forest classifier\n",
        "rf_classifier = RandomForestClassifier(n_estimators=100, random_state=42)\n",
        "rf_classifier.fit(X_train, y_train)"
      ],
      "metadata": {
        "id": "99RthMlW3XOt"
      },
      "execution_count": null,
      "outputs": []
    },
    {
      "cell_type": "code",
      "source": [
        "# Making predictions on the testing set\n",
        "y_pred = rf_classifier.predict(X_test)"
      ],
      "metadata": {
        "id": "rIRqKsz93YVf"
      },
      "execution_count": null,
      "outputs": []
    },
    {
      "cell_type": "code",
      "source": [
        "# Converting encoded labels back to original labels for both predicted and actual values\n",
        "predicted_reasons = le.inverse_transform(y_pred)\n",
        "actual_reasons = le.inverse_transform(y_test)"
      ],
      "metadata": {
        "id": "Nj_TIas23eZx"
      },
      "execution_count": null,
      "outputs": []
    },
    {
      "cell_type": "code",
      "source": [
        "# Counting the occurrences of each predicted reason\n",
        "predicted_counts = {}\n",
        "for reason in predicted_reasons:\n",
        "    if reason in predicted_counts:\n",
        "        predicted_counts[reason] += 1\n",
        "    else:\n",
        "        predicted_counts[reason] = 1"
      ],
      "metadata": {
        "id": "ui26O2jT3fiJ"
      },
      "execution_count": null,
      "outputs": []
    },
    {
      "cell_type": "code",
      "source": [
        "# Counting the occurrences of each actual reason\n",
        "actual_counts = {}\n",
        "for reason in actual_reasons:\n",
        "    if reason in actual_counts:\n",
        "        actual_counts[reason] += 1\n",
        "    else:\n",
        "        actual_counts[reason] = 1"
      ],
      "metadata": {
        "id": "8jg5figJ3hDs"
      },
      "execution_count": null,
      "outputs": []
    },
    {
      "cell_type": "code",
      "source": [
        "# Creating a bar plot\n",
        "labels = list(set(predicted_reasons) | set(actual_reasons))\n",
        "predicted_vals = [predicted_counts.get(label, 0) for label in labels]\n",
        "actual_vals = [actual_counts.get(label, 0) for label in labels]\n",
        "x = np.arange(len(labels))\n",
        "width = 0.35\n",
        "fig, ax = plt.subplots(figsize=(10, 6))\n",
        "rects1 = ax.bar(x - width/2, predicted_vals, width, label='Predicted', color='skyblue')\n",
        "rects2 = ax.bar(x + width/2, actual_vals, width, label='Actual', color='salmon')\n",
        "ax.set_xlabel('Reason for 911 Call')\n",
        "ax.set_ylabel('Count')\n",
        "ax.set_title('Predicted vs Actual Reasons for 911 Calls')\n",
        "ax.set_xticks(x)\n",
        "ax.set_xticklabels(labels, rotation=45, ha='right')\n",
        "ax.legend()\n",
        "plt.tight_layout()\n",
        "plt.show()"
      ],
      "metadata": {
        "id": "iYUaOS1z3iZ5"
      },
      "execution_count": null,
      "outputs": []
    }
  ]
}